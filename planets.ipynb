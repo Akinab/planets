{
  "nbformat": 4,
  "nbformat_minor": 0,
  "metadata": {
    "colab": {
      "provenance": [],
      "authorship_tag": "ABX9TyPI0S+1FilcQo7EUdg/QvOL",
      "include_colab_link": true
    },
    "kernelspec": {
      "name": "python3",
      "display_name": "Python 3"
    },
    "language_info": {
      "name": "python"
    }
  },
  "cells": [
    {
      "cell_type": "markdown",
      "metadata": {
        "id": "view-in-github",
        "colab_type": "text"
      },
      "source": [
        "<a href=\"https://colab.research.google.com/github/Akinab/planets/blob/main/planets.ipynb\" target=\"_parent\"><img src=\"https://colab.research.google.com/assets/colab-badge.svg\" alt=\"Open In Colab\"/></a>"
      ]
    },
    {
      "cell_type": "markdown",
      "source": [
        "**Installing pyspark**"
      ],
      "metadata": {
        "id": "8tJlsOb81nGC"
      }
    },
    {
      "cell_type": "code",
      "execution_count": 1,
      "metadata": {
        "colab": {
          "base_uri": "https://localhost:8080/"
        },
        "id": "KRsY7liazdsO",
        "outputId": "f267327e-1d66-4d8c-b176-9f99a63550b2"
      },
      "outputs": [
        {
          "output_type": "stream",
          "name": "stdout",
          "text": [
            "Collecting pyspark\n",
            "  Downloading pyspark-3.5.1.tar.gz (317.0 MB)\n",
            "\u001b[2K     \u001b[90m━━━━━━━━━━━━━━━━━━━━━━━━━━━━━━━━━━━━━━━━\u001b[0m \u001b[32m317.0/317.0 MB\u001b[0m \u001b[31m2.8 MB/s\u001b[0m eta \u001b[36m0:00:00\u001b[0m\n",
            "\u001b[?25h  Preparing metadata (setup.py) ... \u001b[?25l\u001b[?25hdone\n",
            "Requirement already satisfied: py4j==0.10.9.7 in /usr/local/lib/python3.10/dist-packages (from pyspark) (0.10.9.7)\n",
            "Building wheels for collected packages: pyspark\n",
            "  Building wheel for pyspark (setup.py) ... \u001b[?25l\u001b[?25hdone\n",
            "  Created wheel for pyspark: filename=pyspark-3.5.1-py2.py3-none-any.whl size=317488491 sha256=0624e13bb96b81a6d5a065d471345090a5dcaeb868800ccd5918c39abe9d4fec\n",
            "  Stored in directory: /root/.cache/pip/wheels/80/1d/60/2c256ed38dddce2fdd93be545214a63e02fbd8d74fb0b7f3a6\n",
            "Successfully built pyspark\n",
            "Installing collected packages: pyspark\n",
            "Successfully installed pyspark-3.5.1\n"
          ]
        }
      ],
      "source": [
        "!pip install pyspark"
      ]
    },
    {
      "cell_type": "markdown",
      "source": [
        "**Importing pyspark SQL Library**"
      ],
      "metadata": {
        "id": "Jg7TjBtI1wVU"
      }
    },
    {
      "cell_type": "code",
      "source": [
        "from pyspark.sql import SparkSession\n",
        "from pyspark.sql.functions import avg, corr, col, udf, struct\n",
        "import pandas as pd\n",
        "import matplotlib.pyplot as plt\n",
        "from pyspark.sql.functions import lit\n",
        "from pyspark.sql.types import *"
      ],
      "metadata": {
        "id": "31DNF4Rf1FnZ"
      },
      "execution_count": 178,
      "outputs": []
    },
    {
      "cell_type": "code",
      "source": [
        "spark = SparkSession.builder.appName(\"Exploring our Solar System\").getOrCreate()"
      ],
      "metadata": {
        "id": "86Nbfsny1Jg2"
      },
      "execution_count": 3,
      "outputs": []
    },
    {
      "cell_type": "markdown",
      "source": [
        "Read data from CSV file into **DataFrame**"
      ],
      "metadata": {
        "id": "zb32o-tC13gd"
      }
    },
    {
      "cell_type": "code",
      "source": [
        "df = spark.read.csv(\"/content/planets.csv\", header=True, inferSchema=True)"
      ],
      "metadata": {
        "id": "ES9Y8PsP1hMk"
      },
      "execution_count": 204,
      "outputs": []
    },
    {
      "cell_type": "code",
      "source": [
        "# Show the schema to verify data types\n",
        "df.printSchema()\n"
      ],
      "metadata": {
        "colab": {
          "base_uri": "https://localhost:8080/"
        },
        "id": "EdLow0Nv20No",
        "outputId": "0608cd7c-46a7-47c9-a131-18a9de8f0e6a"
      },
      "execution_count": 101,
      "outputs": [
        {
          "output_type": "stream",
          "name": "stdout",
          "text": [
            "root\n",
            " |-- Planet: string (nullable = true)\n",
            " |-- Color: string (nullable = true)\n",
            " |-- Mass (10^24kg): double (nullable = true)\n",
            " |-- Diameter (km): integer (nullable = true)\n",
            " |-- Density (kg/m^3): integer (nullable = true)\n",
            " |-- Surface Gravity(m/s^2): double (nullable = true)\n",
            " |-- Escape Velocity (km/s): double (nullable = true)\n",
            " |-- Rotation Period (hours): double (nullable = true)\n",
            " |-- Length of Day (hours): double (nullable = true)\n",
            " |-- Distance from Sun (10^6 km): double (nullable = true)\n",
            " |-- Perihelion (10^6 km): double (nullable = true)\n",
            " |-- Aphelion (10^6 km): double (nullable = true)\n",
            " |-- Orbital Period (days): string (nullable = true)\n",
            " |-- Orbital Velocity (km/s): double (nullable = true)\n",
            " |-- Orbital Inclination (degrees): double (nullable = true)\n",
            " |-- Orbital Eccentricity: double (nullable = true)\n",
            " |-- Obliquity to Orbit (degrees): double (nullable = true)\n",
            " |-- Mean Temperature (C): integer (nullable = true)\n",
            " |-- Surface Pressure (bars): string (nullable = true)\n",
            " |-- Number of Moons: integer (nullable = true)\n",
            " |-- Ring System?: string (nullable = true)\n",
            " |-- Global Magnetic Field?: string (nullable = true)\n",
            "\n"
          ]
        }
      ]
    },
    {
      "cell_type": "code",
      "source": [
        "rdd = df.rdd"
      ],
      "metadata": {
        "id": "XaIbIosFJHGU"
      },
      "execution_count": 126,
      "outputs": []
    },
    {
      "cell_type": "code",
      "source": [
        "sc = spark.sparkContext.parallelize(data)"
      ],
      "metadata": {
        "id": "cxVP7oBl6QuK"
      },
      "execution_count": 111,
      "outputs": []
    },
    {
      "cell_type": "markdown",
      "source": [
        "**Showing Dataset**"
      ],
      "metadata": {
        "id": "VP7CSKdv3GFC"
      }
    },
    {
      "cell_type": "code",
      "source": [
        "print(type(df))\n",
        "df.show()"
      ],
      "metadata": {
        "colab": {
          "base_uri": "https://localhost:8080/"
        },
        "id": "gcNlMLGa2hiS",
        "outputId": "801389fc-17e7-4827-d46f-d7055370b961"
      },
      "execution_count": 52,
      "outputs": [
        {
          "output_type": "stream",
          "name": "stdout",
          "text": [
            "<class 'pyspark.sql.dataframe.DataFrame'>\n",
            "+-------+--------------------+--------------+-------------+----------------+----------------------+----------------------+-----------------------+---------------------+---------------------------+--------------------+------------------+---------------------+-----------------------+-----------------------------+--------------------+----------------------------+--------------------+-----------------------+---------------+------------+----------------------+\n",
            "| Planet|               Color|Mass (10^24kg)|Diameter (km)|Density (kg/m^3)|Surface Gravity(m/s^2)|Escape Velocity (km/s)|Rotation Period (hours)|Length of Day (hours)|Distance from Sun (10^6 km)|Perihelion (10^6 km)|Aphelion (10^6 km)|Orbital Period (days)|Orbital Velocity (km/s)|Orbital Inclination (degrees)|Orbital Eccentricity|Obliquity to Orbit (degrees)|Mean Temperature (C)|Surface Pressure (bars)|Number of Moons|Ring System?|Global Magnetic Field?|\n",
            "+-------+--------------------+--------------+-------------+----------------+----------------------+----------------------+-----------------------+---------------------+---------------------------+--------------------+------------------+---------------------+-----------------------+-----------------------------+--------------------+----------------------------+--------------------+-----------------------+---------------+------------+----------------------+\n",
            "|Mercury|                Grey|          0.33|         4879|            5429|                   3.7|                   4.3|                 1407.6|               4222.6|                       57.9|                46.0|              69.8|                   88|                   47.4|                          7.0|               0.206|                       0.034|                 167|                      0|              0|          No|                   Yes|\n",
            "|  Venus|      Brown and Grey|          4.87|        12104|            5243|                   8.9|                  10.4|                -5832.5|               2802.0|                      108.2|               107.5|             108.9|                224.7|                   35.0|                          3.4|               0.007|                       177.4|                 464|                     92|              0|          No|                    No|\n",
            "|  Earth|Blue, Brown Green...|          5.97|        12756|            5514|                   9.8|                  11.2|                   23.9|                 24.0|                      149.6|               147.1|             152.1|                365.2|                   29.8|                          0.0|               0.017|                        23.4|                  15|                      1|              1|          No|                   Yes|\n",
            "|   Mars|  Red, Brown and Tan|         0.642|         6792|            3934|                   3.7|                   5.0|                   24.6|                 24.7|                      228.0|               206.7|             249.3|                  687|                   24.1|                          1.8|               0.094|                        25.2|                 -65|                   0.01|              2|          No|                    No|\n",
            "|Jupiter|Brown, Orange and...|        1898.0|       142984|            1326|                  23.1|                  59.5|                    9.9|                  9.9|                      778.5|               740.6|             816.4|                 4331|                   13.1|                          1.3|               0.049|                         3.1|                -110|                Unknown|             79|         Yes|                   Yes|\n",
            "| Saturn|Golden, Brown, an...|         568.0|       120536|             687|                   9.0|                  35.5|                   10.7|                 10.7|                     1432.0|              1357.6|            1506.5|               10,747|                    9.7|                          2.5|               0.052|                        26.7|                -140|                Unknown|             82|         Yes|                   Yes|\n",
            "| Uranus|          Blue-Green|          86.8|        51118|            1270|                   8.7|                  21.3|                  -17.2|                 17.2|                     2867.0|              2732.7|            3001.4|               30,589|                    6.8|                          0.8|               0.047|                        97.8|                -195|                Unknown|             27|         Yes|                   Yes|\n",
            "|Neptune|                Blue|         102.0|        49528|            1638|                  11.0|                  23.5|                   16.1|                 16.1|                     4515.0|              4471.1|            4558.9|               59,800|                    5.4|                          1.8|                0.01|                        28.3|                -200|                Unknown|             14|         Yes|                   Yes|\n",
            "+-------+--------------------+--------------+-------------+----------------+----------------------+----------------------+-----------------------+---------------------+---------------------------+--------------------+------------------+---------------------+-----------------------+-----------------------------+--------------------+----------------------------+--------------------+-----------------------+---------------+------------+----------------------+\n",
            "\n"
          ]
        }
      ]
    },
    {
      "cell_type": "code",
      "source": [
        "df.head(8)"
      ],
      "metadata": {
        "colab": {
          "base_uri": "https://localhost:8080/"
        },
        "id": "8rfcc_LEIKPh",
        "outputId": "46a10ce2-b33e-4d03-b388-d889e130fa1b"
      },
      "execution_count": 61,
      "outputs": [
        {
          "output_type": "execute_result",
          "data": {
            "text/plain": [
              "[Row(Planet='Mercury', Color='Grey', Mass (10^24kg)=0.33, Diameter (km)=4879, Density (kg/m^3)=5429, Surface Gravity(m/s^2)=3.7, Escape Velocity (km/s)=4.3, Rotation Period (hours)=1407.6, Length of Day (hours)=4222.6, Distance from Sun (10^6 km)=57.9, Perihelion (10^6 km)=46.0, Aphelion (10^6 km)=69.8, Orbital Period (days)='88', Orbital Velocity (km/s)=47.4, Orbital Inclination (degrees)=7.0, Orbital Eccentricity=0.206, Obliquity to Orbit (degrees)=0.034, Mean Temperature (C)=167, Surface Pressure (bars)='0', Number of Moons=0, Ring System?='No', Global Magnetic Field?='Yes'),\n",
              " Row(Planet='Venus', Color='Brown and Grey', Mass (10^24kg)=4.87, Diameter (km)=12104, Density (kg/m^3)=5243, Surface Gravity(m/s^2)=8.9, Escape Velocity (km/s)=10.4, Rotation Period (hours)=-5832.5, Length of Day (hours)=2802.0, Distance from Sun (10^6 km)=108.2, Perihelion (10^6 km)=107.5, Aphelion (10^6 km)=108.9, Orbital Period (days)='224.7', Orbital Velocity (km/s)=35.0, Orbital Inclination (degrees)=3.4, Orbital Eccentricity=0.007, Obliquity to Orbit (degrees)=177.4, Mean Temperature (C)=464, Surface Pressure (bars)='92', Number of Moons=0, Ring System?='No', Global Magnetic Field?='No'),\n",
              " Row(Planet='Earth', Color='Blue, Brown Green and White', Mass (10^24kg)=5.97, Diameter (km)=12756, Density (kg/m^3)=5514, Surface Gravity(m/s^2)=9.8, Escape Velocity (km/s)=11.2, Rotation Period (hours)=23.9, Length of Day (hours)=24.0, Distance from Sun (10^6 km)=149.6, Perihelion (10^6 km)=147.1, Aphelion (10^6 km)=152.1, Orbital Period (days)='365.2', Orbital Velocity (km/s)=29.8, Orbital Inclination (degrees)=0.0, Orbital Eccentricity=0.017, Obliquity to Orbit (degrees)=23.4, Mean Temperature (C)=15, Surface Pressure (bars)='1', Number of Moons=1, Ring System?='No', Global Magnetic Field?='Yes'),\n",
              " Row(Planet='Mars', Color='Red, Brown and Tan', Mass (10^24kg)=0.642, Diameter (km)=6792, Density (kg/m^3)=3934, Surface Gravity(m/s^2)=3.7, Escape Velocity (km/s)=5.0, Rotation Period (hours)=24.6, Length of Day (hours)=24.7, Distance from Sun (10^6 km)=228.0, Perihelion (10^6 km)=206.7, Aphelion (10^6 km)=249.3, Orbital Period (days)='687', Orbital Velocity (km/s)=24.1, Orbital Inclination (degrees)=1.8, Orbital Eccentricity=0.094, Obliquity to Orbit (degrees)=25.2, Mean Temperature (C)=-65, Surface Pressure (bars)='0.01', Number of Moons=2, Ring System?='No', Global Magnetic Field?='No'),\n",
              " Row(Planet='Jupiter', Color='Brown, Orange and Tan, with White cloud stripes', Mass (10^24kg)=1898.0, Diameter (km)=142984, Density (kg/m^3)=1326, Surface Gravity(m/s^2)=23.1, Escape Velocity (km/s)=59.5, Rotation Period (hours)=9.9, Length of Day (hours)=9.9, Distance from Sun (10^6 km)=778.5, Perihelion (10^6 km)=740.6, Aphelion (10^6 km)=816.4, Orbital Period (days)='4331', Orbital Velocity (km/s)=13.1, Orbital Inclination (degrees)=1.3, Orbital Eccentricity=0.049, Obliquity to Orbit (degrees)=3.1, Mean Temperature (C)=-110, Surface Pressure (bars)='Unknown', Number of Moons=79, Ring System?='Yes', Global Magnetic Field?='Yes'),\n",
              " Row(Planet='Saturn', Color='Golden, Brown, and Blue-Grey', Mass (10^24kg)=568.0, Diameter (km)=120536, Density (kg/m^3)=687, Surface Gravity(m/s^2)=9.0, Escape Velocity (km/s)=35.5, Rotation Period (hours)=10.7, Length of Day (hours)=10.7, Distance from Sun (10^6 km)=1432.0, Perihelion (10^6 km)=1357.6, Aphelion (10^6 km)=1506.5, Orbital Period (days)='10,747', Orbital Velocity (km/s)=9.7, Orbital Inclination (degrees)=2.5, Orbital Eccentricity=0.052, Obliquity to Orbit (degrees)=26.7, Mean Temperature (C)=-140, Surface Pressure (bars)='Unknown', Number of Moons=82, Ring System?='Yes', Global Magnetic Field?='Yes'),\n",
              " Row(Planet='Uranus', Color='Blue-Green', Mass (10^24kg)=86.8, Diameter (km)=51118, Density (kg/m^3)=1270, Surface Gravity(m/s^2)=8.7, Escape Velocity (km/s)=21.3, Rotation Period (hours)=-17.2, Length of Day (hours)=17.2, Distance from Sun (10^6 km)=2867.0, Perihelion (10^6 km)=2732.7, Aphelion (10^6 km)=3001.4, Orbital Period (days)='30,589', Orbital Velocity (km/s)=6.8, Orbital Inclination (degrees)=0.8, Orbital Eccentricity=0.047, Obliquity to Orbit (degrees)=97.8, Mean Temperature (C)=-195, Surface Pressure (bars)='Unknown', Number of Moons=27, Ring System?='Yes', Global Magnetic Field?='Yes'),\n",
              " Row(Planet='Neptune', Color='Blue', Mass (10^24kg)=102.0, Diameter (km)=49528, Density (kg/m^3)=1638, Surface Gravity(m/s^2)=11.0, Escape Velocity (km/s)=23.5, Rotation Period (hours)=16.1, Length of Day (hours)=16.1, Distance from Sun (10^6 km)=4515.0, Perihelion (10^6 km)=4471.1, Aphelion (10^6 km)=4558.9, Orbital Period (days)='59,800', Orbital Velocity (km/s)=5.4, Orbital Inclination (degrees)=1.8, Orbital Eccentricity=0.01, Obliquity to Orbit (degrees)=28.3, Mean Temperature (C)=-200, Surface Pressure (bars)='Unknown', Number of Moons=14, Ring System?='Yes', Global Magnetic Field?='Yes')]"
            ]
          },
          "metadata": {},
          "execution_count": 61
        }
      ]
    },
    {
      "cell_type": "markdown",
      "source": [
        "**Filtering data of Planets with more than zero moons**"
      ],
      "metadata": {
        "id": "VMOh-7rENP1p"
      }
    },
    {
      "cell_type": "code",
      "source": [
        "# Filter DataFrame to include only planets with more than 0 moons\n",
        "filtered_df = df.filter(df['Number of Moons'] > 0)\n",
        "filtered_df.show()"
      ],
      "metadata": {
        "colab": {
          "base_uri": "https://localhost:8080/"
        },
        "id": "xXKBZe8qL6PK",
        "outputId": "619f7130-5f15-4f05-ec1f-c8a07a2a63ed"
      },
      "execution_count": 140,
      "outputs": [
        {
          "output_type": "stream",
          "name": "stdout",
          "text": [
            "+-------+--------------------+--------------+-------------+----------------+----------------------+----------------------+-----------------------+---------------------+---------------------------+--------------------+------------------+---------------------+-----------------------+-----------------------------+--------------------+----------------------------+--------------------+-----------------------+---------------+------------+----------------------+\n",
            "| Planet|               Color|Mass (10^24kg)|Diameter (km)|Density (kg/m^3)|Surface Gravity(m/s^2)|Escape Velocity (km/s)|Rotation Period (hours)|Length of Day (hours)|Distance from Sun (10^6 km)|Perihelion (10^6 km)|Aphelion (10^6 km)|Orbital Period (days)|Orbital Velocity (km/s)|Orbital Inclination (degrees)|Orbital Eccentricity|Obliquity to Orbit (degrees)|Mean Temperature (C)|Surface Pressure (bars)|Number of Moons|Ring System?|Global Magnetic Field?|\n",
            "+-------+--------------------+--------------+-------------+----------------+----------------------+----------------------+-----------------------+---------------------+---------------------------+--------------------+------------------+---------------------+-----------------------+-----------------------------+--------------------+----------------------------+--------------------+-----------------------+---------------+------------+----------------------+\n",
            "|  Earth|Blue, Brown Green...|          5.97|        12756|            5514|                   9.8|                  11.2|                   23.9|                 24.0|                      149.6|               147.1|             152.1|                365.2|                   29.8|                          0.0|               0.017|                        23.4|                  15|                      1|              1|          No|                   Yes|\n",
            "|   Mars|  Red, Brown and Tan|         0.642|         6792|            3934|                   3.7|                   5.0|                   24.6|                 24.7|                      228.0|               206.7|             249.3|                  687|                   24.1|                          1.8|               0.094|                        25.2|                 -65|                   0.01|              2|          No|                    No|\n",
            "|Jupiter|Brown, Orange and...|        1898.0|       142984|            1326|                  23.1|                  59.5|                    9.9|                  9.9|                      778.5|               740.6|             816.4|                 4331|                   13.1|                          1.3|               0.049|                         3.1|                -110|                Unknown|             79|         Yes|                   Yes|\n",
            "| Saturn|Golden, Brown, an...|         568.0|       120536|             687|                   9.0|                  35.5|                   10.7|                 10.7|                     1432.0|              1357.6|            1506.5|               10,747|                    9.7|                          2.5|               0.052|                        26.7|                -140|                Unknown|             82|         Yes|                   Yes|\n",
            "| Uranus|          Blue-Green|          86.8|        51118|            1270|                   8.7|                  21.3|                  -17.2|                 17.2|                     2867.0|              2732.7|            3001.4|               30,589|                    6.8|                          0.8|               0.047|                        97.8|                -195|                Unknown|             27|         Yes|                   Yes|\n",
            "|Neptune|                Blue|         102.0|        49528|            1638|                  11.0|                  23.5|                   16.1|                 16.1|                     4515.0|              4471.1|            4558.9|               59,800|                    5.4|                          1.8|                0.01|                        28.3|                -200|                Unknown|             14|         Yes|                   Yes|\n",
            "+-------+--------------------+--------------+-------------+----------------+----------------------+----------------------+-----------------------+---------------------+---------------------------+--------------------+------------------+---------------------+-----------------------+-----------------------------+--------------------+----------------------------+--------------------+-----------------------+---------------+------------+----------------------+\n",
            "\n"
          ]
        }
      ]
    },
    {
      "cell_type": "code",
      "source": [
        "# Filter DataFrame to include only planets with less than or equal to 100 Mass\n",
        "filtered_df = df.filter(df['Mass (10^24kg)'] <= 100)\n",
        "filtered_df.show()"
      ],
      "metadata": {
        "colab": {
          "base_uri": "https://localhost:8080/"
        },
        "id": "l0-UueGQP3c5",
        "outputId": "2332c1a0-56b4-4fa0-9467-71377544f4e3"
      },
      "execution_count": 90,
      "outputs": [
        {
          "output_type": "stream",
          "name": "stdout",
          "text": [
            "+-------+--------------------+--------------+-------------+----------------+----------------------+----------------------+-----------------------+---------------------+---------------------------+--------------------+------------------+---------------------+-----------------------+-----------------------------+--------------------+----------------------------+--------------------+-----------------------+---------------+------------+----------------------+\n",
            "| Planet|               Color|Mass (10^24kg)|Diameter (km)|Density (kg/m^3)|Surface Gravity(m/s^2)|Escape Velocity (km/s)|Rotation Period (hours)|Length of Day (hours)|Distance from Sun (10^6 km)|Perihelion (10^6 km)|Aphelion (10^6 km)|Orbital Period (days)|Orbital Velocity (km/s)|Orbital Inclination (degrees)|Orbital Eccentricity|Obliquity to Orbit (degrees)|Mean Temperature (C)|Surface Pressure (bars)|Number of Moons|Ring System?|Global Magnetic Field?|\n",
            "+-------+--------------------+--------------+-------------+----------------+----------------------+----------------------+-----------------------+---------------------+---------------------------+--------------------+------------------+---------------------+-----------------------+-----------------------------+--------------------+----------------------------+--------------------+-----------------------+---------------+------------+----------------------+\n",
            "|Mercury|                Grey|          0.33|         4879|            5429|                   3.7|                   4.3|                 1407.6|               4222.6|                       57.9|                46.0|              69.8|                   88|                   47.4|                          7.0|               0.206|                       0.034|                 167|                      0|              0|          No|                   Yes|\n",
            "|  Venus|      Brown and Grey|          4.87|        12104|            5243|                   8.9|                  10.4|                -5832.5|               2802.0|                      108.2|               107.5|             108.9|                224.7|                   35.0|                          3.4|               0.007|                       177.4|                 464|                     92|              0|          No|                    No|\n",
            "|  Earth|Blue, Brown Green...|          5.97|        12756|            5514|                   9.8|                  11.2|                   23.9|                 24.0|                      149.6|               147.1|             152.1|                365.2|                   29.8|                          0.0|               0.017|                        23.4|                  15|                      1|              1|          No|                   Yes|\n",
            "|   Mars|  Red, Brown and Tan|         0.642|         6792|            3934|                   3.7|                   5.0|                   24.6|                 24.7|                      228.0|               206.7|             249.3|                  687|                   24.1|                          1.8|               0.094|                        25.2|                 -65|                   0.01|              2|          No|                    No|\n",
            "| Uranus|          Blue-Green|          86.8|        51118|            1270|                   8.7|                  21.3|                  -17.2|                 17.2|                     2867.0|              2732.7|            3001.4|               30,589|                    6.8|                          0.8|               0.047|                        97.8|                -195|                Unknown|             27|         Yes|                   Yes|\n",
            "+-------+--------------------+--------------+-------------+----------------+----------------------+----------------------+-----------------------+---------------------+---------------------------+--------------------+------------------+---------------------+-----------------------+-----------------------------+--------------------+----------------------------+--------------------+-----------------------+---------------+------------+----------------------+\n",
            "\n"
          ]
        }
      ]
    },
    {
      "cell_type": "code",
      "source": [
        "# Extracting specific columns: \"Planet\", \"Color\", \"Length of Day (Hours)\", \"Number of Moons\"\n",
        "selected_columns_df = df.select(\"Planet\", \"Color\", \"Length of Day (hours)\", \"Number of Moons\")\n",
        "\n",
        "# Filter condition: planets with a length of day greater than 24 hours and with more than 1 moon\n",
        "filtered_df = selected_columns_df.filter((selected_columns_df[\"Length of Day (hours)\"] > 24) & (selected_columns_df[\"Number of Moons\"] > 1))\n",
        "\n",
        "# Displaying the filtered results\n",
        "filtered_df.show()"
      ],
      "metadata": {
        "colab": {
          "base_uri": "https://localhost:8080/"
        },
        "id": "q8RzokQoI0e0",
        "outputId": "690a6191-e90b-4764-8c8d-3fee43d637d7"
      },
      "execution_count": 171,
      "outputs": [
        {
          "output_type": "stream",
          "name": "stdout",
          "text": [
            "+------+------------------+---------------------+---------------+\n",
            "|Planet|             Color|Length of Day (hours)|Number of Moons|\n",
            "+------+------------------+---------------------+---------------+\n",
            "|  Mars|Red, Brown and Tan|                 24.7|              2|\n",
            "+------+------------------+---------------------+---------------+\n",
            "\n"
          ]
        }
      ]
    },
    {
      "cell_type": "markdown",
      "source": [
        "**Select**"
      ],
      "metadata": {
        "id": "_gN4d2UYJRkz"
      }
    },
    {
      "cell_type": "code",
      "source": [
        "# Extracting specific columns: \"Planet\", \"Color\", \"Length of Day (Hours)\", \"Number of Moons\"\n",
        "selected_columns_df = df.select(\"Planet\", \"Color\", \"Length of Day (hours)\", \"Number of Moons\")\n",
        "\n",
        "# Displaying the first 5 rows of the selected columns\n",
        "selected_columns_df.show(8)\n"
      ],
      "metadata": {
        "colab": {
          "base_uri": "https://localhost:8080/"
        },
        "id": "n4okyVmyIiPV",
        "outputId": "f9e7f1f3-ba6b-428b-b51d-8a03d2a10a33"
      },
      "execution_count": 167,
      "outputs": [
        {
          "output_type": "stream",
          "name": "stdout",
          "text": [
            "+-------+--------------------+---------------------+---------------+\n",
            "| Planet|               Color|Length of Day (hours)|Number of Moons|\n",
            "+-------+--------------------+---------------------+---------------+\n",
            "|Mercury|                Grey|               4222.6|              0|\n",
            "|  Venus|      Brown and Grey|               2802.0|              0|\n",
            "|  Earth|Blue, Brown Green...|                 24.0|              1|\n",
            "|   Mars|  Red, Brown and Tan|                 24.7|              2|\n",
            "|Jupiter|Brown, Orange and...|                  9.9|             79|\n",
            "| Saturn|Golden, Brown, an...|                 10.7|             82|\n",
            "| Uranus|          Blue-Green|                 17.2|             27|\n",
            "|Neptune|                Blue|                 16.1|             14|\n",
            "+-------+--------------------+---------------------+---------------+\n",
            "\n"
          ]
        }
      ]
    },
    {
      "cell_type": "markdown",
      "source": [
        "**Defining values for mapping condition** (adding values)"
      ],
      "metadata": {
        "id": "gt6femtDQ-4x"
      }
    },
    {
      "cell_type": "code",
      "source": [
        "# Define a function to extract specific columns: \"Planet\", \"Color\", \"Length of Day (Hours)\", \"Number of Moons\"\n",
        "def extract_columns(row):\n",
        "    return (row[\"Planet\"], row[\"Color\"], row[\"Length of Day (hours)\"], row[\"Number of Moons\"])"
      ],
      "metadata": {
        "id": "avupO4qzKOdz"
      },
      "execution_count": 174,
      "outputs": []
    },
    {
      "cell_type": "code",
      "source": [
        "# Define the schema for the extracted columns\n",
        "extracted_schema = StructType([\n",
        "    StructField(\"Planet\", StringType(), True),\n",
        "    StructField(\"Color\", StringType(), True),\n",
        "    StructField(\"Length of Day (hours)\", StringType(), True),\n",
        "    StructField(\"Number of Moons\", StringType(), True)\n",
        "])"
      ],
      "metadata": {
        "id": "N1cFSAVBKTS0"
      },
      "execution_count": 175,
      "outputs": []
    },
    {
      "cell_type": "code",
      "source": [
        "# Create a UDF from the extract_columns function\n",
        "extract_columns_udf = udf(extract_columns, extracted_schema)"
      ],
      "metadata": {
        "id": "e2F6cbzGKXa9"
      },
      "execution_count": 176,
      "outputs": []
    },
    {
      "cell_type": "code",
      "source": [
        "# Apply the UDF to the DataFrame to extract the specified columns\n",
        "mapped_df = df.withColumn(\"Extracted Data\", extract_columns_udf(struct([df[col] for col in df.columns])))"
      ],
      "metadata": {
        "id": "aoDvNOxvKbOa"
      },
      "execution_count": 179,
      "outputs": []
    },
    {
      "cell_type": "code",
      "source": [
        "# Displaying the result\n",
        "mapped_df.show(truncate=False)"
      ],
      "metadata": {
        "colab": {
          "base_uri": "https://localhost:8080/"
        },
        "id": "itAOENkfKwz6",
        "outputId": "01d501b7-69c8-4d8f-d5ce-39ee9fce03f9"
      },
      "execution_count": 180,
      "outputs": [
        {
          "output_type": "stream",
          "name": "stdout",
          "text": [
            "+-------+-----------------------------------------------+--------------+-------------+----------------+----------------------+----------------------+-----------------------+---------------------+---------------------------+--------------------+------------------+---------------------+-----------------------+-----------------------------+--------------------+----------------------------+--------------------+-----------------------+---------------+------------+----------------------+-------------------------------------------------------------------+\n",
            "|Planet |Color                                          |Mass (10^24kg)|Diameter (km)|Density (kg/m^3)|Surface Gravity(m/s^2)|Escape Velocity (km/s)|Rotation Period (hours)|Length of Day (hours)|Distance from Sun (10^6 km)|Perihelion (10^6 km)|Aphelion (10^6 km)|Orbital Period (days)|Orbital Velocity (km/s)|Orbital Inclination (degrees)|Orbital Eccentricity|Obliquity to Orbit (degrees)|Mean Temperature (C)|Surface Pressure (bars)|Number of Moons|Ring System?|Global Magnetic Field?|Extracted Data                                                     |\n",
            "+-------+-----------------------------------------------+--------------+-------------+----------------+----------------------+----------------------+-----------------------+---------------------+---------------------------+--------------------+------------------+---------------------+-----------------------+-----------------------------+--------------------+----------------------------+--------------------+-----------------------+---------------+------------+----------------------+-------------------------------------------------------------------+\n",
            "|Mercury|Grey                                           |0.33          |4879         |5429            |3.7                   |4.3                   |1407.6                 |4222.6               |57.9                       |46.0                |69.8              |88                   |47.4                   |7.0                          |0.206               |0.034                       |167                 |0                      |0              |No          |Yes                   |{Mercury, Grey, 4222.6, 0}                                         |\n",
            "|Venus  |Brown and Grey                                 |4.87          |12104        |5243            |8.9                   |10.4                  |-5832.5                |2802.0               |108.2                      |107.5               |108.9             |224.7                |35.0                   |3.4                          |0.007               |177.4                       |464                 |92                     |0              |No          |No                    |{Venus, Brown and Grey, 2802.0, 0}                                 |\n",
            "|Earth  |Blue, Brown Green and White                    |5.97          |12756        |5514            |9.8                   |11.2                  |23.9                   |24.0                 |149.6                      |147.1               |152.1             |365.2                |29.8                   |0.0                          |0.017               |23.4                        |15                  |1                      |1              |No          |Yes                   |{Earth, Blue, Brown Green and White, 24.0, 1}                      |\n",
            "|Mars   |Red, Brown and Tan                             |0.642         |6792         |3934            |3.7                   |5.0                   |24.6                   |24.7                 |228.0                      |206.7               |249.3             |687                  |24.1                   |1.8                          |0.094               |25.2                        |-65                 |0.01                   |2              |No          |No                    |{Mars, Red, Brown and Tan, 24.7, 2}                                |\n",
            "|Jupiter|Brown, Orange and Tan, with White cloud stripes|1898.0        |142984       |1326            |23.1                  |59.5                  |9.9                    |9.9                  |778.5                      |740.6               |816.4             |4331                 |13.1                   |1.3                          |0.049               |3.1                         |-110                |Unknown                |79             |Yes         |Yes                   |{Jupiter, Brown, Orange and Tan, with White cloud stripes, 9.9, 79}|\n",
            "|Saturn |Golden, Brown, and Blue-Grey                   |568.0         |120536       |687             |9.0                   |35.5                  |10.7                   |10.7                 |1432.0                     |1357.6              |1506.5            |10,747               |9.7                    |2.5                          |0.052               |26.7                        |-140                |Unknown                |82             |Yes         |Yes                   |{Saturn, Golden, Brown, and Blue-Grey, 10.7, 82}                   |\n",
            "|Uranus |Blue-Green                                     |86.8          |51118        |1270            |8.7                   |21.3                  |-17.2                  |17.2                 |2867.0                     |2732.7              |3001.4            |30,589               |6.8                    |0.8                          |0.047               |97.8                        |-195                |Unknown                |27             |Yes         |Yes                   |{Uranus, Blue-Green, 17.2, 27}                                     |\n",
            "|Neptune|Blue                                           |102.0         |49528        |1638            |11.0                  |23.5                  |16.1                   |16.1                 |4515.0                     |4471.1              |4558.9            |59,800               |5.4                    |1.8                          |0.01                |28.3                        |-200                |Unknown                |14             |Yes         |Yes                   |{Neptune, Blue, 16.1, 14}                                          |\n",
            "+-------+-----------------------------------------------+--------------+-------------+----------------+----------------------+----------------------+-----------------------+---------------------+---------------------------+--------------------+------------------+---------------------+-----------------------+-----------------------------+--------------------+----------------------------+--------------------+-----------------------+---------------+------------+----------------------+-------------------------------------------------------------------+\n",
            "\n"
          ]
        }
      ]
    },
    {
      "cell_type": "code",
      "source": [
        "# Function to extract specific columns: \"Planet\", \"Color\", \"Length of Day (Hours)\", \"Number of Moons\"\n",
        "def extract_columns(row):\n",
        "    return (row[0], row[1], row[8], row[20])\n"
      ],
      "metadata": {
        "id": "2uw4jKo0IJVJ"
      },
      "execution_count": 160,
      "outputs": []
    },
    {
      "cell_type": "code",
      "source": [
        "# Apply the map function to extract these columns\n",
        "mapped_rdd = rdd.map(extract_columns)"
      ],
      "metadata": {
        "id": "MSTksxChIQHR"
      },
      "execution_count": 162,
      "outputs": []
    },
    {
      "cell_type": "code",
      "source": [
        "# Let's see the result\n",
        "mapped_rdd.take(8)  # Displaying the first 5 rows"
      ],
      "metadata": {
        "colab": {
          "base_uri": "https://localhost:8080/"
        },
        "id": "kzYK_j6dIG4D",
        "outputId": "d46b8b58-2ca1-43d1-bd80-8bb8b9923fcb"
      },
      "execution_count": 163,
      "outputs": [
        {
          "output_type": "execute_result",
          "data": {
            "text/plain": [
              "[('Mercury', 'Grey', 4222.6, 'No'),\n",
              " ('Venus', 'Brown and Grey', 2802.0, 'No'),\n",
              " ('Earth', 'Blue, Brown Green and White', 24.0, 'No'),\n",
              " ('Mars', 'Red, Brown and Tan', 24.7, 'No'),\n",
              " ('Jupiter', 'Brown, Orange and Tan, with White cloud stripes', 9.9, 'Yes'),\n",
              " ('Saturn', 'Golden, Brown, and Blue-Grey', 10.7, 'Yes'),\n",
              " ('Uranus', 'Blue-Green', 17.2, 'Yes'),\n",
              " ('Neptune', 'Blue', 16.1, 'Yes')]"
            ]
          },
          "metadata": {},
          "execution_count": 163
        }
      ]
    },
    {
      "cell_type": "code",
      "source": [
        "def has_dense_atmosphere(row):\n",
        "    if row['Surface Pressure (bars)'] == 'Unknown':\n",
        "        return 'Unknown'\n",
        "    elif float(row['Surface Pressure (bars)']) > 4:\n",
        "        return 'Yes'\n",
        "    else:\n",
        "        return 'No'"
      ],
      "metadata": {
        "id": "n8clFdwjQdbD"
      },
      "execution_count": 91,
      "outputs": []
    },
    {
      "cell_type": "code",
      "source": [
        "# Apply the function using map and add the result as a new column\n",
        "mapped_df = df.rdd.map(lambda row: row + (has_dense_atmosphere(row),)).toDF(df.columns + ['Dense Atmosphere'])"
      ],
      "metadata": {
        "id": "IDFAj8E3Q02i"
      },
      "execution_count": 92,
      "outputs": []
    },
    {
      "cell_type": "code",
      "source": [
        "mapped_df.show()"
      ],
      "metadata": {
        "colab": {
          "base_uri": "https://localhost:8080/"
        },
        "id": "07wPDkTtQ5B6",
        "outputId": "d5c85602-2c36-46a0-ffe3-de5f45eb3a18"
      },
      "execution_count": 93,
      "outputs": [
        {
          "output_type": "stream",
          "name": "stdout",
          "text": [
            "+-------+--------------------+--------------+-------------+----------------+----------------------+----------------------+-----------------------+---------------------+---------------------------+--------------------+------------------+---------------------+-----------------------+-----------------------------+--------------------+----------------------------+--------------------+-----------------------+---------------+------------+----------------------+----------------+\n",
            "| Planet|               Color|Mass (10^24kg)|Diameter (km)|Density (kg/m^3)|Surface Gravity(m/s^2)|Escape Velocity (km/s)|Rotation Period (hours)|Length of Day (hours)|Distance from Sun (10^6 km)|Perihelion (10^6 km)|Aphelion (10^6 km)|Orbital Period (days)|Orbital Velocity (km/s)|Orbital Inclination (degrees)|Orbital Eccentricity|Obliquity to Orbit (degrees)|Mean Temperature (C)|Surface Pressure (bars)|Number of Moons|Ring System?|Global Magnetic Field?|Dense Atmosphere|\n",
            "+-------+--------------------+--------------+-------------+----------------+----------------------+----------------------+-----------------------+---------------------+---------------------------+--------------------+------------------+---------------------+-----------------------+-----------------------------+--------------------+----------------------------+--------------------+-----------------------+---------------+------------+----------------------+----------------+\n",
            "|Mercury|                Grey|          0.33|         4879|            5429|                   3.7|                   4.3|                 1407.6|               4222.6|                       57.9|                46.0|              69.8|                   88|                   47.4|                          7.0|               0.206|                       0.034|                 167|                      0|              0|          No|                   Yes|              No|\n",
            "|  Venus|      Brown and Grey|          4.87|        12104|            5243|                   8.9|                  10.4|                -5832.5|               2802.0|                      108.2|               107.5|             108.9|                224.7|                   35.0|                          3.4|               0.007|                       177.4|                 464|                     92|              0|          No|                    No|             Yes|\n",
            "|  Earth|Blue, Brown Green...|          5.97|        12756|            5514|                   9.8|                  11.2|                   23.9|                 24.0|                      149.6|               147.1|             152.1|                365.2|                   29.8|                          0.0|               0.017|                        23.4|                  15|                      1|              1|          No|                   Yes|              No|\n",
            "|   Mars|  Red, Brown and Tan|         0.642|         6792|            3934|                   3.7|                   5.0|                   24.6|                 24.7|                      228.0|               206.7|             249.3|                  687|                   24.1|                          1.8|               0.094|                        25.2|                 -65|                   0.01|              2|          No|                    No|              No|\n",
            "|Jupiter|Brown, Orange and...|        1898.0|       142984|            1326|                  23.1|                  59.5|                    9.9|                  9.9|                      778.5|               740.6|             816.4|                 4331|                   13.1|                          1.3|               0.049|                         3.1|                -110|                Unknown|             79|         Yes|                   Yes|         Unknown|\n",
            "| Saturn|Golden, Brown, an...|         568.0|       120536|             687|                   9.0|                  35.5|                   10.7|                 10.7|                     1432.0|              1357.6|            1506.5|               10,747|                    9.7|                          2.5|               0.052|                        26.7|                -140|                Unknown|             82|         Yes|                   Yes|         Unknown|\n",
            "| Uranus|          Blue-Green|          86.8|        51118|            1270|                   8.7|                  21.3|                  -17.2|                 17.2|                     2867.0|              2732.7|            3001.4|               30,589|                    6.8|                          0.8|               0.047|                        97.8|                -195|                Unknown|             27|         Yes|                   Yes|         Unknown|\n",
            "|Neptune|                Blue|         102.0|        49528|            1638|                  11.0|                  23.5|                   16.1|                 16.1|                     4515.0|              4471.1|            4558.9|               59,800|                    5.4|                          1.8|                0.01|                        28.3|                -200|                Unknown|             14|         Yes|                   Yes|         Unknown|\n",
            "+-------+--------------------+--------------+-------------+----------------+----------------------+----------------------+-----------------------+---------------------+---------------------------+--------------------+------------------+---------------------+-----------------------+-----------------------------+--------------------+----------------------------+--------------------+-----------------------+---------------+------------+----------------------+----------------+\n",
            "\n"
          ]
        }
      ]
    },
    {
      "cell_type": "markdown",
      "source": [
        "**Using rdd count()**"
      ],
      "metadata": {
        "id": "f_J5IJYT12GT"
      }
    },
    {
      "cell_type": "code",
      "source": [
        "total_count = df.rdd.count()\n",
        "print(f\"Total number of rows: {total_count}\")"
      ],
      "metadata": {
        "colab": {
          "base_uri": "https://localhost:8080/"
        },
        "id": "7IvoocAE1lEw",
        "outputId": "288a17f9-890c-432f-f373-34a56053e2cf"
      },
      "execution_count": 108,
      "outputs": [
        {
          "output_type": "stream",
          "name": "stdout",
          "text": [
            "Total number of rows: 8\n"
          ]
        }
      ]
    },
    {
      "cell_type": "code",
      "source": [
        "# Calculate the total number of moons across all planets\n",
        "total_moons = df.selectExpr(\"sum(`Number of Moons`)\").collect()[0][0]\n",
        "\n",
        "# Print the total number of moons\n",
        "print(f\"Total number of moons across all planets: {total_moons}\")"
      ],
      "metadata": {
        "colab": {
          "base_uri": "https://localhost:8080/"
        },
        "id": "wSDVdUnLL9XU",
        "outputId": "af8dbd85-d4b1-44e8-dddc-926da787344a"
      },
      "execution_count": 182,
      "outputs": [
        {
          "output_type": "stream",
          "name": "stdout",
          "text": [
            "Total number of moons across all planets: 205\n"
          ]
        }
      ]
    },
    {
      "cell_type": "code",
      "source": [
        "# Filter the DataFrame to select only planets with rings\n",
        "planets_with_rings_df = df.filter(df[\"Ring System?\"] == \"Yes\")\n",
        "\n",
        "# Calculate the total number of planets with rings\n",
        "total_planets_with_rings = planets_with_rings_df.count()\n",
        "\n",
        "# Print the total number of planets with rings\n",
        "print(f\"Total number of planets with rings: {total_planets_with_rings}\")"
      ],
      "metadata": {
        "colab": {
          "base_uri": "https://localhost:8080/"
        },
        "id": "ny3tJ7lmMagr",
        "outputId": "a7025298-2bcd-403e-b1da-662622c204ee"
      },
      "execution_count": 183,
      "outputs": [
        {
          "output_type": "stream",
          "name": "stdout",
          "text": [
            "Total number of planets with rings: 4\n"
          ]
        }
      ]
    },
    {
      "cell_type": "markdown",
      "source": [
        "**Using rdd collect()**"
      ],
      "metadata": {
        "id": "jaH6jwOT7kPq"
      }
    },
    {
      "cell_type": "code",
      "source": [
        "# Collect RDD\n",
        "rdd_collected = sc.collect()\n",
        "\n",
        "# Print RDD\n",
        "for columns in rdd_collected:\n",
        "    print(columns)"
      ],
      "metadata": {
        "colab": {
          "base_uri": "https://localhost:8080/"
        },
        "id": "DBj4Knt16bRD",
        "outputId": "359531b6-df5d-45df-cca5-0dde7bef3400"
      },
      "execution_count": 114,
      "outputs": [
        {
          "output_type": "stream",
          "name": "stdout",
          "text": [
            "planet\n",
            "color\n",
            "mass\n",
            "diameter\n",
            "density\n",
            "surface_gravity\n",
            "escape_velocity\n",
            "rotation_period\n",
            "lenght_of_day\n",
            "istance_from_the_sun\n",
            "perihelion\n",
            "aphelion\n",
            "orbital_period\n",
            "orbital_velocity\n",
            "orbital_inclination\n",
            "orbital_eccentricity\n",
            "obliquity_to_orbit\n",
            "mean_temperature\n",
            "surface_pressure\n",
            "number_of_moons\n",
            "ring_system\n",
            "global_magnetic_field\n"
          ]
        }
      ]
    },
    {
      "cell_type": "code",
      "source": [
        "# Collect RDD\n",
        "rdd_collected = df.select(\"Color\").rdd.map(lambda row: row[0]).collect()\n",
        "\n",
        "# Print RDD\n",
        "for color in rdd_collected:\n",
        "    print(color)"
      ],
      "metadata": {
        "colab": {
          "base_uri": "https://localhost:8080/"
        },
        "id": "Y5Er7DxiMsXS",
        "outputId": "db7fba56-0229-4201-f4a5-ec4d6f8da105"
      },
      "execution_count": 222,
      "outputs": [
        {
          "output_type": "stream",
          "name": "stdout",
          "text": [
            "Grey\n",
            "Brown and Grey\n",
            "Blue, Brown Green and White\n",
            "Red, Brown and Tan\n",
            "Brown, Orange and Tan, with White cloud stripes\n",
            "Golden, Brown, and Blue-Grey\n",
            "Blue-Green\n",
            "Blue\n"
          ]
        }
      ]
    },
    {
      "cell_type": "markdown",
      "source": [
        "**Using sortbyKey()**"
      ],
      "metadata": {
        "id": "Thye9eZc80j9"
      }
    },
    {
      "cell_type": "code",
      "source": [
        "# Convert mean temperature column to numeric type (if needed)\n",
        "df = df.withColumn(\"Mean Temperature (C)\", df[\"Mean Temperature (C)\"].cast(\"float\"))\n",
        "\n",
        "# Sort the DataFrame by mean temperature\n",
        "sorted_by_temperature_df = df.orderBy(\"Mean Temperature (C)\")\n",
        "\n",
        "# Show the sorted DataFrame\n",
        "sorted_by_temperature_df.show()"
      ],
      "metadata": {
        "colab": {
          "base_uri": "https://localhost:8080/"
        },
        "id": "uF4EzaX_W8zL",
        "outputId": "c0f85fbf-caf8-4b82-bb6d-130ed0aa6c3c"
      },
      "execution_count": 221,
      "outputs": [
        {
          "output_type": "stream",
          "name": "stdout",
          "text": [
            "+-------+--------------------+--------------+-------------+----------------+----------------------+----------------------+-----------------------+---------------------+---------------------------+--------------------+------------------+---------------------+-----------------------+-----------------------------+--------------------+----------------------------+--------------------+-----------------------+---------------+------------+----------------------+\n",
            "| Planet|               Color|Mass (10^24kg)|Diameter (km)|Density (kg/m^3)|Surface Gravity(m/s^2)|Escape Velocity (km/s)|Rotation Period (hours)|Length of Day (hours)|Distance from Sun (10^6 km)|Perihelion (10^6 km)|Aphelion (10^6 km)|Orbital Period (days)|Orbital Velocity (km/s)|Orbital Inclination (degrees)|Orbital Eccentricity|Obliquity to Orbit (degrees)|Mean Temperature (C)|Surface Pressure (bars)|Number of Moons|Ring System?|Global Magnetic Field?|\n",
            "+-------+--------------------+--------------+-------------+----------------+----------------------+----------------------+-----------------------+---------------------+---------------------------+--------------------+------------------+---------------------+-----------------------+-----------------------------+--------------------+----------------------------+--------------------+-----------------------+---------------+------------+----------------------+\n",
            "|Neptune|                Blue|         102.0|        49528|            1638|                  11.0|                  23.5|                   16.1|                 16.1|                     4515.0|              4471.1|            4558.9|               59,800|                    5.4|                          1.8|                0.01|                        28.3|              -200.0|                Unknown|             14|         Yes|                   Yes|\n",
            "| Uranus|          Blue-Green|          86.8|        51118|            1270|                   8.7|                  21.3|                  -17.2|                 17.2|                     2867.0|              2732.7|            3001.4|               30,589|                    6.8|                          0.8|               0.047|                        97.8|              -195.0|                Unknown|             27|         Yes|                   Yes|\n",
            "| Saturn|Golden, Brown, an...|         568.0|       120536|             687|                   9.0|                  35.5|                   10.7|                 10.7|                     1432.0|              1357.6|            1506.5|               10,747|                    9.7|                          2.5|               0.052|                        26.7|              -140.0|                Unknown|             82|         Yes|                   Yes|\n",
            "|Jupiter|Brown, Orange and...|        1898.0|       142984|            1326|                  23.1|                  59.5|                    9.9|                  9.9|                      778.5|               740.6|             816.4|                 4331|                   13.1|                          1.3|               0.049|                         3.1|              -110.0|                Unknown|             79|         Yes|                   Yes|\n",
            "|   Mars|  Red, Brown and Tan|         0.642|         6792|            3934|                   3.7|                   5.0|                   24.6|                 24.7|                      228.0|               206.7|             249.3|                  687|                   24.1|                          1.8|               0.094|                        25.2|               -65.0|                   0.01|              2|          No|                    No|\n",
            "|  Earth|Blue, Brown Green...|          5.97|        12756|            5514|                   9.8|                  11.2|                   23.9|                 24.0|                      149.6|               147.1|             152.1|                365.2|                   29.8|                          0.0|               0.017|                        23.4|                15.0|                      1|              1|          No|                   Yes|\n",
            "|Mercury|                Grey|          0.33|         4879|            5429|                   3.7|                   4.3|                 1407.6|               4222.6|                       57.9|                46.0|              69.8|                   88|                   47.4|                          7.0|               0.206|                       0.034|               167.0|                      0|              0|          No|                   Yes|\n",
            "|  Venus|      Brown and Grey|          4.87|        12104|            5243|                   8.9|                  10.4|                -5832.5|               2802.0|                      108.2|               107.5|             108.9|                224.7|                   35.0|                          3.4|               0.007|                       177.4|               464.0|                     92|              0|          No|                    No|\n",
            "+-------+--------------------+--------------+-------------+----------------+----------------------+----------------------+-----------------------+---------------------+---------------------------+--------------------+------------------+---------------------+-----------------------+-----------------------------+--------------------+----------------------------+--------------------+-----------------------+---------------+------------+----------------------+\n",
            "\n"
          ]
        }
      ]
    },
    {
      "cell_type": "code",
      "source": [
        "# Convert the DataFrame to an RDD and map each row to a key-value pair with the planet's name as the key\n",
        "rdd_key_value = df.rdd.map(lambda row: (row[\"Planet\"], row))\n",
        "\n",
        "# Sort the RDD by the planet's name (key) in ascending order\n",
        "sorted_rdd = rdd_key_value.sortByKey()\n",
        "\n",
        "# Collect the sorted RDD and print the results\n",
        "sorted_planets = sorted_rdd.collect()\n",
        "for planet in sorted_planets:\n",
        "    print(planet)"
      ],
      "metadata": {
        "colab": {
          "base_uri": "https://localhost:8080/"
        },
        "id": "aZ6L4lV5N64K",
        "outputId": "899694a2-853a-48fd-96c0-27299de7ddfd"
      },
      "execution_count": 223,
      "outputs": [
        {
          "output_type": "stream",
          "name": "stdout",
          "text": [
            "('Earth', Row(Planet='Earth', Color='Blue, Brown Green and White', Mass (10^24kg)=5.97, Diameter (km)=12756, Density (kg/m^3)=5514, Surface Gravity(m/s^2)=9.8, Escape Velocity (km/s)=11.2, Rotation Period (hours)=23.9, Length of Day (hours)=24.0, Distance from Sun (10^6 km)=149.6, Perihelion (10^6 km)=147.1, Aphelion (10^6 km)=152.1, Orbital Period (days)='365.2', Orbital Velocity (km/s)=29.8, Orbital Inclination (degrees)=0.0, Orbital Eccentricity=0.017, Obliquity to Orbit (degrees)=23.4, Mean Temperature (C)=15.0, Surface Pressure (bars)='1', Number of Moons=1, Ring System?='No', Global Magnetic Field?='Yes'))\n",
            "('Jupiter', Row(Planet='Jupiter', Color='Brown, Orange and Tan, with White cloud stripes', Mass (10^24kg)=1898.0, Diameter (km)=142984, Density (kg/m^3)=1326, Surface Gravity(m/s^2)=23.1, Escape Velocity (km/s)=59.5, Rotation Period (hours)=9.9, Length of Day (hours)=9.9, Distance from Sun (10^6 km)=778.5, Perihelion (10^6 km)=740.6, Aphelion (10^6 km)=816.4, Orbital Period (days)='4331', Orbital Velocity (km/s)=13.1, Orbital Inclination (degrees)=1.3, Orbital Eccentricity=0.049, Obliquity to Orbit (degrees)=3.1, Mean Temperature (C)=-110.0, Surface Pressure (bars)='Unknown', Number of Moons=79, Ring System?='Yes', Global Magnetic Field?='Yes'))\n",
            "('Mars', Row(Planet='Mars', Color='Red, Brown and Tan', Mass (10^24kg)=0.642, Diameter (km)=6792, Density (kg/m^3)=3934, Surface Gravity(m/s^2)=3.7, Escape Velocity (km/s)=5.0, Rotation Period (hours)=24.6, Length of Day (hours)=24.7, Distance from Sun (10^6 km)=228.0, Perihelion (10^6 km)=206.7, Aphelion (10^6 km)=249.3, Orbital Period (days)='687', Orbital Velocity (km/s)=24.1, Orbital Inclination (degrees)=1.8, Orbital Eccentricity=0.094, Obliquity to Orbit (degrees)=25.2, Mean Temperature (C)=-65.0, Surface Pressure (bars)='0.01', Number of Moons=2, Ring System?='No', Global Magnetic Field?='No'))\n",
            "('Mercury', Row(Planet='Mercury', Color='Grey', Mass (10^24kg)=0.33, Diameter (km)=4879, Density (kg/m^3)=5429, Surface Gravity(m/s^2)=3.7, Escape Velocity (km/s)=4.3, Rotation Period (hours)=1407.6, Length of Day (hours)=4222.6, Distance from Sun (10^6 km)=57.9, Perihelion (10^6 km)=46.0, Aphelion (10^6 km)=69.8, Orbital Period (days)='88', Orbital Velocity (km/s)=47.4, Orbital Inclination (degrees)=7.0, Orbital Eccentricity=0.206, Obliquity to Orbit (degrees)=0.034, Mean Temperature (C)=167.0, Surface Pressure (bars)='0', Number of Moons=0, Ring System?='No', Global Magnetic Field?='Yes'))\n",
            "('Neptune', Row(Planet='Neptune', Color='Blue', Mass (10^24kg)=102.0, Diameter (km)=49528, Density (kg/m^3)=1638, Surface Gravity(m/s^2)=11.0, Escape Velocity (km/s)=23.5, Rotation Period (hours)=16.1, Length of Day (hours)=16.1, Distance from Sun (10^6 km)=4515.0, Perihelion (10^6 km)=4471.1, Aphelion (10^6 km)=4558.9, Orbital Period (days)='59,800', Orbital Velocity (km/s)=5.4, Orbital Inclination (degrees)=1.8, Orbital Eccentricity=0.01, Obliquity to Orbit (degrees)=28.3, Mean Temperature (C)=-200.0, Surface Pressure (bars)='Unknown', Number of Moons=14, Ring System?='Yes', Global Magnetic Field?='Yes'))\n",
            "('Saturn', Row(Planet='Saturn', Color='Golden, Brown, and Blue-Grey', Mass (10^24kg)=568.0, Diameter (km)=120536, Density (kg/m^3)=687, Surface Gravity(m/s^2)=9.0, Escape Velocity (km/s)=35.5, Rotation Period (hours)=10.7, Length of Day (hours)=10.7, Distance from Sun (10^6 km)=1432.0, Perihelion (10^6 km)=1357.6, Aphelion (10^6 km)=1506.5, Orbital Period (days)='10,747', Orbital Velocity (km/s)=9.7, Orbital Inclination (degrees)=2.5, Orbital Eccentricity=0.052, Obliquity to Orbit (degrees)=26.7, Mean Temperature (C)=-140.0, Surface Pressure (bars)='Unknown', Number of Moons=82, Ring System?='Yes', Global Magnetic Field?='Yes'))\n",
            "('Uranus', Row(Planet='Uranus', Color='Blue-Green', Mass (10^24kg)=86.8, Diameter (km)=51118, Density (kg/m^3)=1270, Surface Gravity(m/s^2)=8.7, Escape Velocity (km/s)=21.3, Rotation Period (hours)=-17.2, Length of Day (hours)=17.2, Distance from Sun (10^6 km)=2867.0, Perihelion (10^6 km)=2732.7, Aphelion (10^6 km)=3001.4, Orbital Period (days)='30,589', Orbital Velocity (km/s)=6.8, Orbital Inclination (degrees)=0.8, Orbital Eccentricity=0.047, Obliquity to Orbit (degrees)=97.8, Mean Temperature (C)=-195.0, Surface Pressure (bars)='Unknown', Number of Moons=27, Ring System?='Yes', Global Magnetic Field?='Yes'))\n",
            "('Venus', Row(Planet='Venus', Color='Brown and Grey', Mass (10^24kg)=4.87, Diameter (km)=12104, Density (kg/m^3)=5243, Surface Gravity(m/s^2)=8.9, Escape Velocity (km/s)=10.4, Rotation Period (hours)=-5832.5, Length of Day (hours)=2802.0, Distance from Sun (10^6 km)=108.2, Perihelion (10^6 km)=107.5, Aphelion (10^6 km)=108.9, Orbital Period (days)='224.7', Orbital Velocity (km/s)=35.0, Orbital Inclination (degrees)=3.4, Orbital Eccentricity=0.007, Obliquity to Orbit (degrees)=177.4, Mean Temperature (C)=464.0, Surface Pressure (bars)='92', Number of Moons=0, Ring System?='No', Global Magnetic Field?='No'))\n"
          ]
        }
      ]
    },
    {
      "cell_type": "markdown",
      "source": [
        "**Using sortbyKey() in Dataframe format**"
      ],
      "metadata": {
        "id": "mDEYEf3sOTTD"
      }
    },
    {
      "cell_type": "code",
      "source": [
        "# Sort the DataFrame by the \"Planet\" column in ascending order\n",
        "sorted_df = df.orderBy(\"Planet\")\n",
        "\n",
        "# Show the sorted DataFrame\n",
        "sorted_df.show()"
      ],
      "metadata": {
        "colab": {
          "base_uri": "https://localhost:8080/"
        },
        "id": "WReFs9bsNntN",
        "outputId": "784829fe-d36b-4446-e64b-db5a01ef106d"
      },
      "execution_count": 187,
      "outputs": [
        {
          "output_type": "stream",
          "name": "stdout",
          "text": [
            "+-------+--------------------+--------------+-------------+----------------+----------------------+----------------------+-----------------------+---------------------+---------------------------+--------------------+------------------+---------------------+-----------------------+-----------------------------+--------------------+----------------------------+--------------------+-----------------------+---------------+------------+----------------------+\n",
            "| Planet|               Color|Mass (10^24kg)|Diameter (km)|Density (kg/m^3)|Surface Gravity(m/s^2)|Escape Velocity (km/s)|Rotation Period (hours)|Length of Day (hours)|Distance from Sun (10^6 km)|Perihelion (10^6 km)|Aphelion (10^6 km)|Orbital Period (days)|Orbital Velocity (km/s)|Orbital Inclination (degrees)|Orbital Eccentricity|Obliquity to Orbit (degrees)|Mean Temperature (C)|Surface Pressure (bars)|Number of Moons|Ring System?|Global Magnetic Field?|\n",
            "+-------+--------------------+--------------+-------------+----------------+----------------------+----------------------+-----------------------+---------------------+---------------------------+--------------------+------------------+---------------------+-----------------------+-----------------------------+--------------------+----------------------------+--------------------+-----------------------+---------------+------------+----------------------+\n",
            "|  Earth|Blue, Brown Green...|          5.97|        12756|            5514|                   9.8|                  11.2|                   23.9|                 24.0|                      149.6|               147.1|             152.1|                365.2|                   29.8|                          0.0|               0.017|                        23.4|                  15|                      1|              1|          No|                   Yes|\n",
            "|Jupiter|Brown, Orange and...|        1898.0|       142984|            1326|                  23.1|                  59.5|                    9.9|                  9.9|                      778.5|               740.6|             816.4|                 4331|                   13.1|                          1.3|               0.049|                         3.1|                -110|                Unknown|             79|         Yes|                   Yes|\n",
            "|   Mars|  Red, Brown and Tan|         0.642|         6792|            3934|                   3.7|                   5.0|                   24.6|                 24.7|                      228.0|               206.7|             249.3|                  687|                   24.1|                          1.8|               0.094|                        25.2|                 -65|                   0.01|              2|          No|                    No|\n",
            "|Mercury|                Grey|          0.33|         4879|            5429|                   3.7|                   4.3|                 1407.6|               4222.6|                       57.9|                46.0|              69.8|                   88|                   47.4|                          7.0|               0.206|                       0.034|                 167|                      0|              0|          No|                   Yes|\n",
            "|Neptune|                Blue|         102.0|        49528|            1638|                  11.0|                  23.5|                   16.1|                 16.1|                     4515.0|              4471.1|            4558.9|               59,800|                    5.4|                          1.8|                0.01|                        28.3|                -200|                Unknown|             14|         Yes|                   Yes|\n",
            "| Saturn|Golden, Brown, an...|         568.0|       120536|             687|                   9.0|                  35.5|                   10.7|                 10.7|                     1432.0|              1357.6|            1506.5|               10,747|                    9.7|                          2.5|               0.052|                        26.7|                -140|                Unknown|             82|         Yes|                   Yes|\n",
            "| Uranus|          Blue-Green|          86.8|        51118|            1270|                   8.7|                  21.3|                  -17.2|                 17.2|                     2867.0|              2732.7|            3001.4|               30,589|                    6.8|                          0.8|               0.047|                        97.8|                -195|                Unknown|             27|         Yes|                   Yes|\n",
            "|  Venus|      Brown and Grey|          4.87|        12104|            5243|                   8.9|                  10.4|                -5832.5|               2802.0|                      108.2|               107.5|             108.9|                224.7|                   35.0|                          3.4|               0.007|                       177.4|                 464|                     92|              0|          No|                    No|\n",
            "+-------+--------------------+--------------+-------------+----------------+----------------------+----------------------+-----------------------+---------------------+---------------------------+--------------------+------------------+---------------------+-----------------------+-----------------------------+--------------------+----------------------------+--------------------+-----------------------+---------------+------------+----------------------+\n",
            "\n"
          ]
        }
      ]
    },
    {
      "cell_type": "markdown",
      "source": [
        "**Using groupbyKey()**"
      ],
      "metadata": {
        "id": "TKlMzkz5O275"
      }
    },
    {
      "cell_type": "code",
      "source": [
        "# Convert the DataFrame to an RDD and map each row to a key-value pair with the color as the key\n",
        "rdd_key_value = df.rdd.map(lambda row: (row[\"Color\"], row))\n",
        "\n",
        "# Group the RDD by the color (key)\n",
        "grouped_rdd = rdd_key_value.groupByKey()\n",
        "\n",
        "# Collect the grouped RDD and print the results\n",
        "for color, planets in grouped_rdd.collect():\n",
        "    print(f\"Color: {color}\")\n",
        "    for planet in planets:\n",
        "        print(f\"- {planet}\")\n",
        "    print()"
      ],
      "metadata": {
        "colab": {
          "base_uri": "https://localhost:8080/"
        },
        "id": "Z7d02PgDO5rJ",
        "outputId": "23776f4f-20ff-4cfd-a4e8-bbd5a158f699"
      },
      "execution_count": 224,
      "outputs": [
        {
          "output_type": "stream",
          "name": "stdout",
          "text": [
            "Color: Grey\n",
            "- Row(Planet='Mercury', Color='Grey', Mass (10^24kg)=0.33, Diameter (km)=4879, Density (kg/m^3)=5429, Surface Gravity(m/s^2)=3.7, Escape Velocity (km/s)=4.3, Rotation Period (hours)=1407.6, Length of Day (hours)=4222.6, Distance from Sun (10^6 km)=57.9, Perihelion (10^6 km)=46.0, Aphelion (10^6 km)=69.8, Orbital Period (days)='88', Orbital Velocity (km/s)=47.4, Orbital Inclination (degrees)=7.0, Orbital Eccentricity=0.206, Obliquity to Orbit (degrees)=0.034, Mean Temperature (C)=167.0, Surface Pressure (bars)='0', Number of Moons=0, Ring System?='No', Global Magnetic Field?='Yes')\n",
            "\n",
            "Color: Brown and Grey\n",
            "- Row(Planet='Venus', Color='Brown and Grey', Mass (10^24kg)=4.87, Diameter (km)=12104, Density (kg/m^3)=5243, Surface Gravity(m/s^2)=8.9, Escape Velocity (km/s)=10.4, Rotation Period (hours)=-5832.5, Length of Day (hours)=2802.0, Distance from Sun (10^6 km)=108.2, Perihelion (10^6 km)=107.5, Aphelion (10^6 km)=108.9, Orbital Period (days)='224.7', Orbital Velocity (km/s)=35.0, Orbital Inclination (degrees)=3.4, Orbital Eccentricity=0.007, Obliquity to Orbit (degrees)=177.4, Mean Temperature (C)=464.0, Surface Pressure (bars)='92', Number of Moons=0, Ring System?='No', Global Magnetic Field?='No')\n",
            "\n",
            "Color: Blue, Brown Green and White\n",
            "- Row(Planet='Earth', Color='Blue, Brown Green and White', Mass (10^24kg)=5.97, Diameter (km)=12756, Density (kg/m^3)=5514, Surface Gravity(m/s^2)=9.8, Escape Velocity (km/s)=11.2, Rotation Period (hours)=23.9, Length of Day (hours)=24.0, Distance from Sun (10^6 km)=149.6, Perihelion (10^6 km)=147.1, Aphelion (10^6 km)=152.1, Orbital Period (days)='365.2', Orbital Velocity (km/s)=29.8, Orbital Inclination (degrees)=0.0, Orbital Eccentricity=0.017, Obliquity to Orbit (degrees)=23.4, Mean Temperature (C)=15.0, Surface Pressure (bars)='1', Number of Moons=1, Ring System?='No', Global Magnetic Field?='Yes')\n",
            "\n",
            "Color: Red, Brown and Tan\n",
            "- Row(Planet='Mars', Color='Red, Brown and Tan', Mass (10^24kg)=0.642, Diameter (km)=6792, Density (kg/m^3)=3934, Surface Gravity(m/s^2)=3.7, Escape Velocity (km/s)=5.0, Rotation Period (hours)=24.6, Length of Day (hours)=24.7, Distance from Sun (10^6 km)=228.0, Perihelion (10^6 km)=206.7, Aphelion (10^6 km)=249.3, Orbital Period (days)='687', Orbital Velocity (km/s)=24.1, Orbital Inclination (degrees)=1.8, Orbital Eccentricity=0.094, Obliquity to Orbit (degrees)=25.2, Mean Temperature (C)=-65.0, Surface Pressure (bars)='0.01', Number of Moons=2, Ring System?='No', Global Magnetic Field?='No')\n",
            "\n",
            "Color: Brown, Orange and Tan, with White cloud stripes\n",
            "- Row(Planet='Jupiter', Color='Brown, Orange and Tan, with White cloud stripes', Mass (10^24kg)=1898.0, Diameter (km)=142984, Density (kg/m^3)=1326, Surface Gravity(m/s^2)=23.1, Escape Velocity (km/s)=59.5, Rotation Period (hours)=9.9, Length of Day (hours)=9.9, Distance from Sun (10^6 km)=778.5, Perihelion (10^6 km)=740.6, Aphelion (10^6 km)=816.4, Orbital Period (days)='4331', Orbital Velocity (km/s)=13.1, Orbital Inclination (degrees)=1.3, Orbital Eccentricity=0.049, Obliquity to Orbit (degrees)=3.1, Mean Temperature (C)=-110.0, Surface Pressure (bars)='Unknown', Number of Moons=79, Ring System?='Yes', Global Magnetic Field?='Yes')\n",
            "\n",
            "Color: Golden, Brown, and Blue-Grey\n",
            "- Row(Planet='Saturn', Color='Golden, Brown, and Blue-Grey', Mass (10^24kg)=568.0, Diameter (km)=120536, Density (kg/m^3)=687, Surface Gravity(m/s^2)=9.0, Escape Velocity (km/s)=35.5, Rotation Period (hours)=10.7, Length of Day (hours)=10.7, Distance from Sun (10^6 km)=1432.0, Perihelion (10^6 km)=1357.6, Aphelion (10^6 km)=1506.5, Orbital Period (days)='10,747', Orbital Velocity (km/s)=9.7, Orbital Inclination (degrees)=2.5, Orbital Eccentricity=0.052, Obliquity to Orbit (degrees)=26.7, Mean Temperature (C)=-140.0, Surface Pressure (bars)='Unknown', Number of Moons=82, Ring System?='Yes', Global Magnetic Field?='Yes')\n",
            "\n",
            "Color: Blue-Green\n",
            "- Row(Planet='Uranus', Color='Blue-Green', Mass (10^24kg)=86.8, Diameter (km)=51118, Density (kg/m^3)=1270, Surface Gravity(m/s^2)=8.7, Escape Velocity (km/s)=21.3, Rotation Period (hours)=-17.2, Length of Day (hours)=17.2, Distance from Sun (10^6 km)=2867.0, Perihelion (10^6 km)=2732.7, Aphelion (10^6 km)=3001.4, Orbital Period (days)='30,589', Orbital Velocity (km/s)=6.8, Orbital Inclination (degrees)=0.8, Orbital Eccentricity=0.047, Obliquity to Orbit (degrees)=97.8, Mean Temperature (C)=-195.0, Surface Pressure (bars)='Unknown', Number of Moons=27, Ring System?='Yes', Global Magnetic Field?='Yes')\n",
            "\n",
            "Color: Blue\n",
            "- Row(Planet='Neptune', Color='Blue', Mass (10^24kg)=102.0, Diameter (km)=49528, Density (kg/m^3)=1638, Surface Gravity(m/s^2)=11.0, Escape Velocity (km/s)=23.5, Rotation Period (hours)=16.1, Length of Day (hours)=16.1, Distance from Sun (10^6 km)=4515.0, Perihelion (10^6 km)=4471.1, Aphelion (10^6 km)=4558.9, Orbital Period (days)='59,800', Orbital Velocity (km/s)=5.4, Orbital Inclination (degrees)=1.8, Orbital Eccentricity=0.01, Obliquity to Orbit (degrees)=28.3, Mean Temperature (C)=-200.0, Surface Pressure (bars)='Unknown', Number of Moons=14, Ring System?='Yes', Global Magnetic Field?='Yes')\n",
            "\n"
          ]
        }
      ]
    },
    {
      "cell_type": "markdown",
      "source": [
        "**Using groupbyKey() in dataframe format**\n"
      ],
      "metadata": {
        "id": "NNIpxZ-fPEYC"
      }
    },
    {
      "cell_type": "code",
      "source": [
        "# Group the DataFrame by the \"Color\" column and count the occurrences of each color\n",
        "color_counts = df.groupBy(\"Color\").count()\n",
        "\n",
        "# Show the count of occurrences for each color\n",
        "color_counts.show()"
      ],
      "metadata": {
        "colab": {
          "base_uri": "https://localhost:8080/"
        },
        "id": "eYXNd8dKPMzC",
        "outputId": "c7b1d2a8-4d67-4260-e724-3ac53ed112c0"
      },
      "execution_count": 202,
      "outputs": [
        {
          "output_type": "stream",
          "name": "stdout",
          "text": [
            "+--------------------+-----+\n",
            "|               Color|count|\n",
            "+--------------------+-----+\n",
            "|Blue, Brown Green...|    1|\n",
            "|  Red, Brown and Tan|    1|\n",
            "|Golden, Brown, an...|    1|\n",
            "|                Blue|    1|\n",
            "|Brown, Orange and...|    1|\n",
            "|                Grey|    1|\n",
            "|          Blue-Green|    1|\n",
            "|      Brown and Grey|    1|\n",
            "+--------------------+-----+\n",
            "\n"
          ]
        }
      ]
    },
    {
      "cell_type": "markdown",
      "source": [
        "**Using select()**"
      ],
      "metadata": {
        "id": "7gC5M5m6SAEa"
      }
    },
    {
      "cell_type": "code",
      "source": [
        "# Select specific columns: Let's select only the \"Planet\" and \"Color\" columns.\n",
        "selected_df = df.select(\"Planet\", \"Color\")\n",
        "\n",
        "selected_df.show()"
      ],
      "metadata": {
        "colab": {
          "base_uri": "https://localhost:8080/"
        },
        "id": "TrMp1YCmSC6J",
        "outputId": "81d758e6-60eb-4e56-b329-0ea166c577c1"
      },
      "execution_count": 205,
      "outputs": [
        {
          "output_type": "stream",
          "name": "stdout",
          "text": [
            "+-------+--------------------+\n",
            "| Planet|               Color|\n",
            "+-------+--------------------+\n",
            "|Mercury|                Grey|\n",
            "|  Venus|      Brown and Grey|\n",
            "|  Earth|Blue, Brown Green...|\n",
            "|   Mars|  Red, Brown and Tan|\n",
            "|Jupiter|Brown, Orange and...|\n",
            "| Saturn|Golden, Brown, an...|\n",
            "| Uranus|          Blue-Green|\n",
            "|Neptune|                Blue|\n",
            "+-------+--------------------+\n",
            "\n"
          ]
        }
      ]
    },
    {
      "cell_type": "markdown",
      "source": [
        "**Using filtered()**"
      ],
      "metadata": {
        "id": "TuHav9dQSJIU"
      }
    },
    {
      "cell_type": "code",
      "source": [
        "# Filter rows: Let's filter planets with a diameter greater than 10,000 km.\n",
        "filtered_df = df.filter(col(\"Diameter (km)\") > 10000)\n",
        "\n",
        "filtered_df.show()"
      ],
      "metadata": {
        "colab": {
          "base_uri": "https://localhost:8080/"
        },
        "id": "vlHepjRMSOqD",
        "outputId": "7ac7c2ed-6124-4b1a-8d76-8b4fbce126b2"
      },
      "execution_count": 206,
      "outputs": [
        {
          "output_type": "stream",
          "name": "stdout",
          "text": [
            "+-------+--------------------+--------------+-------------+----------------+----------------------+----------------------+-----------------------+---------------------+---------------------------+--------------------+------------------+---------------------+-----------------------+-----------------------------+--------------------+----------------------------+--------------------+-----------------------+---------------+------------+----------------------+\n",
            "| Planet|               Color|Mass (10^24kg)|Diameter (km)|Density (kg/m^3)|Surface Gravity(m/s^2)|Escape Velocity (km/s)|Rotation Period (hours)|Length of Day (hours)|Distance from Sun (10^6 km)|Perihelion (10^6 km)|Aphelion (10^6 km)|Orbital Period (days)|Orbital Velocity (km/s)|Orbital Inclination (degrees)|Orbital Eccentricity|Obliquity to Orbit (degrees)|Mean Temperature (C)|Surface Pressure (bars)|Number of Moons|Ring System?|Global Magnetic Field?|\n",
            "+-------+--------------------+--------------+-------------+----------------+----------------------+----------------------+-----------------------+---------------------+---------------------------+--------------------+------------------+---------------------+-----------------------+-----------------------------+--------------------+----------------------------+--------------------+-----------------------+---------------+------------+----------------------+\n",
            "|  Venus|      Brown and Grey|          4.87|        12104|            5243|                   8.9|                  10.4|                -5832.5|               2802.0|                      108.2|               107.5|             108.9|                224.7|                   35.0|                          3.4|               0.007|                       177.4|                 464|                     92|              0|          No|                    No|\n",
            "|  Earth|Blue, Brown Green...|          5.97|        12756|            5514|                   9.8|                  11.2|                   23.9|                 24.0|                      149.6|               147.1|             152.1|                365.2|                   29.8|                          0.0|               0.017|                        23.4|                  15|                      1|              1|          No|                   Yes|\n",
            "|Jupiter|Brown, Orange and...|        1898.0|       142984|            1326|                  23.1|                  59.5|                    9.9|                  9.9|                      778.5|               740.6|             816.4|                 4331|                   13.1|                          1.3|               0.049|                         3.1|                -110|                Unknown|             79|         Yes|                   Yes|\n",
            "| Saturn|Golden, Brown, an...|         568.0|       120536|             687|                   9.0|                  35.5|                   10.7|                 10.7|                     1432.0|              1357.6|            1506.5|               10,747|                    9.7|                          2.5|               0.052|                        26.7|                -140|                Unknown|             82|         Yes|                   Yes|\n",
            "| Uranus|          Blue-Green|          86.8|        51118|            1270|                   8.7|                  21.3|                  -17.2|                 17.2|                     2867.0|              2732.7|            3001.4|               30,589|                    6.8|                          0.8|               0.047|                        97.8|                -195|                Unknown|             27|         Yes|                   Yes|\n",
            "|Neptune|                Blue|         102.0|        49528|            1638|                  11.0|                  23.5|                   16.1|                 16.1|                     4515.0|              4471.1|            4558.9|               59,800|                    5.4|                          1.8|                0.01|                        28.3|                -200|                Unknown|             14|         Yes|                   Yes|\n",
            "+-------+--------------------+--------------+-------------+----------------+----------------------+----------------------+-----------------------+---------------------+---------------------------+--------------------+------------------+---------------------+-----------------------+-----------------------------+--------------------+----------------------------+--------------------+-----------------------+---------------+------------+----------------------+\n",
            "\n"
          ]
        }
      ]
    },
    {
      "cell_type": "markdown",
      "source": [
        "**Using orderby()**"
      ],
      "metadata": {
        "id": "2ejrNxA5SW9O"
      }
    },
    {
      "cell_type": "code",
      "source": [
        "# Order by: Let's sort the DataFrame by the \"Mass (10^24kg)\" column in descending order.\n",
        "ordered_df = df.orderBy(col(\"Mass (10^24kg)\").desc())\n",
        "\n",
        "ordered_df.show()"
      ],
      "metadata": {
        "colab": {
          "base_uri": "https://localhost:8080/"
        },
        "id": "uIYJ4cK-SZGj",
        "outputId": "ab70b53a-30ab-441f-f0e6-f3b767341e39"
      },
      "execution_count": 208,
      "outputs": [
        {
          "output_type": "stream",
          "name": "stdout",
          "text": [
            "+-------+--------------------+--------------+-------------+----------------+----------------------+----------------------+-----------------------+---------------------+---------------------------+--------------------+------------------+---------------------+-----------------------+-----------------------------+--------------------+----------------------------+--------------------+-----------------------+---------------+------------+----------------------+\n",
            "| Planet|               Color|Mass (10^24kg)|Diameter (km)|Density (kg/m^3)|Surface Gravity(m/s^2)|Escape Velocity (km/s)|Rotation Period (hours)|Length of Day (hours)|Distance from Sun (10^6 km)|Perihelion (10^6 km)|Aphelion (10^6 km)|Orbital Period (days)|Orbital Velocity (km/s)|Orbital Inclination (degrees)|Orbital Eccentricity|Obliquity to Orbit (degrees)|Mean Temperature (C)|Surface Pressure (bars)|Number of Moons|Ring System?|Global Magnetic Field?|\n",
            "+-------+--------------------+--------------+-------------+----------------+----------------------+----------------------+-----------------------+---------------------+---------------------------+--------------------+------------------+---------------------+-----------------------+-----------------------------+--------------------+----------------------------+--------------------+-----------------------+---------------+------------+----------------------+\n",
            "|Jupiter|Brown, Orange and...|        1898.0|       142984|            1326|                  23.1|                  59.5|                    9.9|                  9.9|                      778.5|               740.6|             816.4|                 4331|                   13.1|                          1.3|               0.049|                         3.1|                -110|                Unknown|             79|         Yes|                   Yes|\n",
            "| Saturn|Golden, Brown, an...|         568.0|       120536|             687|                   9.0|                  35.5|                   10.7|                 10.7|                     1432.0|              1357.6|            1506.5|               10,747|                    9.7|                          2.5|               0.052|                        26.7|                -140|                Unknown|             82|         Yes|                   Yes|\n",
            "|Neptune|                Blue|         102.0|        49528|            1638|                  11.0|                  23.5|                   16.1|                 16.1|                     4515.0|              4471.1|            4558.9|               59,800|                    5.4|                          1.8|                0.01|                        28.3|                -200|                Unknown|             14|         Yes|                   Yes|\n",
            "| Uranus|          Blue-Green|          86.8|        51118|            1270|                   8.7|                  21.3|                  -17.2|                 17.2|                     2867.0|              2732.7|            3001.4|               30,589|                    6.8|                          0.8|               0.047|                        97.8|                -195|                Unknown|             27|         Yes|                   Yes|\n",
            "|  Earth|Blue, Brown Green...|          5.97|        12756|            5514|                   9.8|                  11.2|                   23.9|                 24.0|                      149.6|               147.1|             152.1|                365.2|                   29.8|                          0.0|               0.017|                        23.4|                  15|                      1|              1|          No|                   Yes|\n",
            "|  Venus|      Brown and Grey|          4.87|        12104|            5243|                   8.9|                  10.4|                -5832.5|               2802.0|                      108.2|               107.5|             108.9|                224.7|                   35.0|                          3.4|               0.007|                       177.4|                 464|                     92|              0|          No|                    No|\n",
            "|   Mars|  Red, Brown and Tan|         0.642|         6792|            3934|                   3.7|                   5.0|                   24.6|                 24.7|                      228.0|               206.7|             249.3|                  687|                   24.1|                          1.8|               0.094|                        25.2|                 -65|                   0.01|              2|          No|                    No|\n",
            "|Mercury|                Grey|          0.33|         4879|            5429|                   3.7|                   4.3|                 1407.6|               4222.6|                       57.9|                46.0|              69.8|                   88|                   47.4|                          7.0|               0.206|                       0.034|                 167|                      0|              0|          No|                   Yes|\n",
            "+-------+--------------------+--------------+-------------+----------------+----------------------+----------------------+-----------------------+---------------------+---------------------------+--------------------+------------------+---------------------+-----------------------+-----------------------------+--------------------+----------------------------+--------------------+-----------------------+---------------+------------+----------------------+\n",
            "\n"
          ]
        }
      ]
    },
    {
      "cell_type": "markdown",
      "source": [
        "**Rename values**"
      ],
      "metadata": {
        "id": "_UYqd3h0YzUY"
      }
    },
    {
      "cell_type": "code",
      "source": [
        "# Define new column names\n",
        "new_column_names = [\"planet\",\n",
        "                    \"color\",\n",
        "                    \"mass\",\n",
        "                    \"diameter\",\n",
        "                    \"density\",\n",
        "                    \"surface_gravity\",\n",
        "                    \"escape_velocity\",\n",
        "                    \"rotation_period\",\n",
        "                    \"length_of_day\",\n",
        "                    \"distance_from_sun\",\n",
        "                    \"perihelion\",\n",
        "                    \"aphelion\",\n",
        "                    \"orbital_period\",\n",
        "                    \"orbital_velocity\",\n",
        "                    \"orbital_inclination\",\n",
        "                    \"orbital_eccentricity\",\n",
        "                    \"obliquity_to_orbit\",\n",
        "                    \"new_mean_temperature\",\n",
        "                    \"surface_pressure\",\n",
        "                    \"number_of_moons\",\n",
        "                    \"ring_system\",\n",
        "                    \"global_magnetic_field\"]\n",
        "\n",
        "# Rename all columns using toDF() function\n",
        "df = df.toDF(*new_column_names)\n",
        "\n",
        "# Show the DataFrame with renamed columns\n",
        "df.show()"
      ],
      "metadata": {
        "colab": {
          "base_uri": "https://localhost:8080/"
        },
        "id": "Q44rn4UyY3-b",
        "outputId": "582abed4-2a77-432c-dc27-a4fe5b18ab31"
      },
      "execution_count": 227,
      "outputs": [
        {
          "output_type": "stream",
          "name": "stdout",
          "text": [
            "+-------+--------------------+------+--------+-------+---------------+---------------+---------------+-------------+-----------------+----------+--------+--------------+----------------+-------------------+--------------------+------------------+--------------------+----------------+---------------+-----------+---------------------+\n",
            "| planet|               color|  mass|diameter|density|surface_gravity|escape_velocity|rotation_period|length_of_day|distance_from_sun|perihelion|aphelion|orbital_period|orbital_velocity|orbital_inclination|orbital_eccentricity|obliquity_to_orbit|new_mean_temperature|surface_pressure|number_of_moons|ring_system|global_magnetic_field|\n",
            "+-------+--------------------+------+--------+-------+---------------+---------------+---------------+-------------+-----------------+----------+--------+--------------+----------------+-------------------+--------------------+------------------+--------------------+----------------+---------------+-----------+---------------------+\n",
            "|Mercury|                Grey|  0.33|    4879|   5429|            3.7|            4.3|         1407.6|       4222.6|             57.9|      46.0|    69.8|            88|            47.4|                7.0|               0.206|             0.034|               167.0|               0|              0|         No|                  Yes|\n",
            "|  Venus|      Brown and Grey|  4.87|   12104|   5243|            8.9|           10.4|        -5832.5|       2802.0|            108.2|     107.5|   108.9|         224.7|            35.0|                3.4|               0.007|             177.4|               464.0|              92|              0|         No|                   No|\n",
            "|  Earth|Blue, Brown Green...|  5.97|   12756|   5514|            9.8|           11.2|           23.9|         24.0|            149.6|     147.1|   152.1|         365.2|            29.8|                0.0|               0.017|              23.4|                15.0|               1|              1|         No|                  Yes|\n",
            "|   Mars|  Red, Brown and Tan| 0.642|    6792|   3934|            3.7|            5.0|           24.6|         24.7|            228.0|     206.7|   249.3|           687|            24.1|                1.8|               0.094|              25.2|               -65.0|            0.01|              2|         No|                   No|\n",
            "|Jupiter|Brown, Orange and...|1898.0|  142984|   1326|           23.1|           59.5|            9.9|          9.9|            778.5|     740.6|   816.4|          4331|            13.1|                1.3|               0.049|               3.1|              -110.0|         Unknown|             79|        Yes|                  Yes|\n",
            "| Saturn|Golden, Brown, an...| 568.0|  120536|    687|            9.0|           35.5|           10.7|         10.7|           1432.0|    1357.6|  1506.5|        10,747|             9.7|                2.5|               0.052|              26.7|              -140.0|         Unknown|             82|        Yes|                  Yes|\n",
            "| Uranus|          Blue-Green|  86.8|   51118|   1270|            8.7|           21.3|          -17.2|         17.2|           2867.0|    2732.7|  3001.4|        30,589|             6.8|                0.8|               0.047|              97.8|              -195.0|         Unknown|             27|        Yes|                  Yes|\n",
            "|Neptune|                Blue| 102.0|   49528|   1638|           11.0|           23.5|           16.1|         16.1|           4515.0|    4471.1|  4558.9|        59,800|             5.4|                1.8|                0.01|              28.3|              -200.0|         Unknown|             14|        Yes|                  Yes|\n",
            "+-------+--------------------+------+--------+-------+---------------+---------------+---------------+-------------+-----------------+----------+--------+--------------+----------------+-------------------+--------------------+------------------+--------------------+----------------+---------------+-----------+---------------------+\n",
            "\n"
          ]
        }
      ]
    },
    {
      "cell_type": "markdown",
      "source": [
        "**SQL Queries**"
      ],
      "metadata": {
        "id": "5svX6u5pS9Tr"
      }
    },
    {
      "cell_type": "markdown",
      "source": [
        "**1. What is the distribution of planet colors in the dataset, and are there any patterns or correlations with other attributes?**"
      ],
      "metadata": {
        "id": "8mdfZT8bTCDs"
      }
    },
    {
      "cell_type": "code",
      "source": [
        "# 1. Distribution of planet colors\n",
        "color_distribution_query = \"\"\"\n",
        "SELECT Color, COUNT(*) AS Count\n",
        "FROM planets\n",
        "GROUP BY Color\n",
        "ORDER BY Count\n",
        "\"\"\"\n",
        "\n",
        "color_distribution_result = spark.sql(color_distribution_query)\n",
        "color_distribution_result.show()\n"
      ],
      "metadata": {
        "colab": {
          "base_uri": "https://localhost:8080/"
        },
        "id": "-BKZi_EnS_5p",
        "outputId": "d097d691-f80a-41f1-aab9-f8cef0a64746"
      },
      "execution_count": 212,
      "outputs": [
        {
          "output_type": "stream",
          "name": "stdout",
          "text": [
            "+--------------------+-----+\n",
            "|               Color|Count|\n",
            "+--------------------+-----+\n",
            "|Blue, Brown Green...|    1|\n",
            "|  Red, Brown and Tan|    1|\n",
            "|Golden, Brown, an...|    1|\n",
            "|                Blue|    1|\n",
            "|Brown, Orange and...|    1|\n",
            "|                Grey|    1|\n",
            "|          Blue-Green|    1|\n",
            "|      Brown and Grey|    1|\n",
            "+--------------------+-----+\n",
            "\n"
          ]
        }
      ]
    },
    {
      "cell_type": "markdown",
      "source": [
        "**2. Is there a relationship between the mass of a planet and its distance from the sun?**"
      ],
      "metadata": {
        "id": "qn79B-3UT3PL"
      }
    },
    {
      "cell_type": "code",
      "source": [
        "# 2. Relationship between planet mass and distance from the sun\n",
        "mass_distance_query = \"\"\"\n",
        "SELECT Planet, `Mass (10^24kg)`, `Distance from Sun (10^6 km)`\n",
        "FROM planets\n",
        "ORDER BY `Mass (10^24kg)`\n",
        "\"\"\"\n",
        "mass_distance_result = spark.sql(mass_distance_query)\n",
        "mass_distance_result.show()\n"
      ],
      "metadata": {
        "colab": {
          "base_uri": "https://localhost:8080/"
        },
        "id": "ZT3r6kG4T4CF",
        "outputId": "16448b61-7d33-42db-e83d-3d2cab4e72f4"
      },
      "execution_count": 225,
      "outputs": [
        {
          "output_type": "stream",
          "name": "stdout",
          "text": [
            "+-------+--------------+---------------------------+\n",
            "| Planet|Mass (10^24kg)|Distance from Sun (10^6 km)|\n",
            "+-------+--------------+---------------------------+\n",
            "|Mercury|          0.33|                       57.9|\n",
            "|   Mars|         0.642|                      228.0|\n",
            "|  Venus|          4.87|                      108.2|\n",
            "|  Earth|          5.97|                      149.6|\n",
            "| Uranus|          86.8|                     2867.0|\n",
            "|Neptune|         102.0|                     4515.0|\n",
            "| Saturn|         568.0|                     1432.0|\n",
            "|Jupiter|        1898.0|                      778.5|\n",
            "+-------+--------------+---------------------------+\n",
            "\n"
          ]
        }
      ]
    },
    {
      "cell_type": "markdown",
      "source": [
        "**3. How does the number of moons vary across different planets, and is there any relationship between the number of moons and other planetary characteristics?**"
      ],
      "metadata": {
        "id": "uhXBYt51T58u"
      }
    },
    {
      "cell_type": "code",
      "source": [
        "# 3. Variation in the number of moons across planets\n",
        "moon_variation_query = \"\"\"\n",
        "SELECT Planet, `Number of Moons`\n",
        "FROM planets\n",
        "ORDER BY `Number of Moons`\n",
        "\"\"\"\n",
        "moon_variation_result = spark.sql(moon_variation_query)\n",
        "moon_variation_result.show()"
      ],
      "metadata": {
        "colab": {
          "base_uri": "https://localhost:8080/"
        },
        "id": "C0orwgOvT6Lb",
        "outputId": "b0c655b2-00d6-4406-dda0-82355a976100"
      },
      "execution_count": 214,
      "outputs": [
        {
          "output_type": "stream",
          "name": "stdout",
          "text": [
            "+-------+---------------+\n",
            "| Planet|Number of Moons|\n",
            "+-------+---------------+\n",
            "| Saturn|             82|\n",
            "|Jupiter|             79|\n",
            "| Uranus|             27|\n",
            "|Neptune|             14|\n",
            "|   Mars|              2|\n",
            "|  Earth|              1|\n",
            "|Mercury|              0|\n",
            "|  Venus|              0|\n",
            "+-------+---------------+\n",
            "\n"
          ]
        }
      ]
    },
    {
      "cell_type": "markdown",
      "source": [
        "**Average length of day (hours) in every planet**"
      ],
      "metadata": {
        "id": "Sj0GC1l9U0On"
      }
    },
    {
      "cell_type": "code",
      "source": [
        "# Extract the planet names and average length of day (hours)\n",
        "planet_names = df.select(\"Planet\").rdd.flatMap(lambda x: x).collect()\n",
        "avg_length_of_day = df.groupBy(\"Planet\").avg(\"Length of Day (hours)\").rdd.map(lambda x: x[1]).collect()\n",
        "\n",
        "# Create the bar plot\n",
        "plt.figure(figsize=(10, 6))\n",
        "plt.bar(planet_names, avg_length_of_day, color='skyblue')\n",
        "plt.xlabel('Planet')\n",
        "plt.ylabel('Average Length of Day (hours)')\n",
        "plt.title('Average Length of Day (hours) for Each Planet')\n",
        "plt.xticks(rotation=45, ha='right')\n",
        "plt.tight_layout()\n",
        "plt.show()\n"
      ],
      "metadata": {
        "colab": {
          "base_uri": "https://localhost:8080/",
          "height": 607
        },
        "id": "DgggddejUwQc",
        "outputId": "2874d22d-316c-4962-9e9d-689200a2277d"
      },
      "execution_count": 216,
      "outputs": [
        {
          "output_type": "display_data",
          "data": {
            "text/plain": [
              "<Figure size 1000x600 with 1 Axes>"
            ],
            "image/png": "[encoded data removed]"
          },
          "metadata": {}
        }
      ]
    },
    {
      "cell_type": "markdown",
      "source": [
        "**Average rotation period per planet**"
      ],
      "metadata": {
        "id": "vhGjvt19VRQb"
      }
    },
    {
      "cell_type": "code",
      "source": [
        "# Extract the planet names and average rotation period (hours)\n",
        "avg_rotation_period = df.groupBy(\"Planet\").avg(\"Rotation Period (hours)\").rdd.map(lambda x: x[1]).collect()\n",
        "\n",
        "# Create the bar plot\n",
        "plt.figure(figsize=(10, 6))\n",
        "plt.bar(planet_names, avg_rotation_period, color='lightgreen')\n",
        "plt.xlabel('Planet')\n",
        "plt.ylabel('Average Rotation Period (hours)')\n",
        "plt.title('Average Rotation Period (hours) for Each Planet')\n",
        "plt.xticks(rotation=45, ha='right')\n",
        "plt.tight_layout()\n",
        "plt.show()"
      ],
      "metadata": {
        "colab": {
          "base_uri": "https://localhost:8080/",
          "height": 607
        },
        "id": "3rIdDGRIVMOE",
        "outputId": "f355eef9-4a9d-4a00-9013-423f9c76656f"
      },
      "execution_count": 217,
      "outputs": [
        {
          "output_type": "display_data",
          "data": {
            "text/plain": [
              "<Figure size 1000x600 with 1 Axes>"
            ],
            "image/png": "[encoded data removed]"
          },
          "metadata": {}
        }
      ]
    },
    {
      "cell_type": "markdown",
      "source": [
        "**Number of planets with or without rings**"
      ],
      "metadata": {
        "id": "H0x15MPYVoT4"
      }
    },
    {
      "cell_type": "code",
      "source": [
        "# Filter the DataFrame to include only the planets with rings\n",
        "planets_with_rings = df.filter(df[\"Ring System?\"] == \"Yes\")\n",
        "\n",
        "# Count the number of planets with rings\n",
        "num_planets_with_rings = planets_with_rings.count()\n",
        "\n",
        "# Count the number of planets without rings\n",
        "num_planets_without_rings = df.count() - num_planets_with_rings\n",
        "\n",
        "# Create labels and values for the bar plot\n",
        "labels = ['With Rings', 'Without Rings']\n",
        "values = [num_planets_with_rings, num_planets_without_rings]\n",
        "\n",
        "# Create the bar plot\n",
        "plt.figure(figsize=(6, 6))\n",
        "plt.bar(labels, values, color=['skyblue', 'lightgreen'])\n",
        "plt.xlabel('Ring System')\n",
        "plt.ylabel('Number of Planets')\n",
        "plt.title('Number of Planets with and without Rings')\n",
        "plt.show()"
      ],
      "metadata": {
        "colab": {
          "base_uri": "https://localhost:8080/",
          "height": 564
        },
        "id": "iyKj1cYeVym7",
        "outputId": "f1d46586-cb97-4572-b819-b81ab9099cd8"
      },
      "execution_count": 218,
      "outputs": [
        {
          "output_type": "display_data",
          "data": {
            "text/plain": [
              "<Figure size 600x600 with 1 Axes>"
            ],
            "image/png": "[encoded data removed]"
          },
          "metadata": {}
        }
      ]
    },
    {
      "cell_type": "markdown",
      "source": [
        "**Relationship between Diameter and Surface Gravity of Planets**"
      ],
      "metadata": {
        "id": "eVk3O65wWV8g"
      }
    },
    {
      "cell_type": "code",
      "source": [
        "# Extract the surface gravity and diameter of the planets\n",
        "surface_gravity = df.select(\"Planet\", \"Surface Gravity(m/s^2)\").rdd.map(lambda x: x[1]).collect()\n",
        "diameter = df.select(\"Planet\", \"Diameter (km)\").rdd.map(lambda x: x[1]).collect()\n",
        "\n",
        "# Create the scatter plot\n",
        "plt.figure(figsize=(8, 6))\n",
        "plt.scatter(diameter, surface_gravity, color='orange')\n",
        "plt.xlabel('Diameter (km)')\n",
        "plt.ylabel('Surface Gravity (m/s^2)')\n",
        "plt.title('Relationship between Diameter and Surface Gravity of Planets')\n",
        "plt.grid(True)\n",
        "plt.tight_layout()\n",
        "plt.show()"
      ],
      "metadata": {
        "colab": {
          "base_uri": "https://localhost:8080/",
          "height": 607
        },
        "id": "HolnuHL6WRq9",
        "outputId": "9924c20e-d33c-46a7-a421-2aeaa9433605"
      },
      "execution_count": 219,
      "outputs": [
        {
          "output_type": "display_data",
          "data": {
            "text/plain": [
              "<Figure size 800x600 with 1 Axes>"
            ],
            "image/png": "[encoded data removed]"
          },
          "metadata": {}
        }
      ]
    }
  ]
}